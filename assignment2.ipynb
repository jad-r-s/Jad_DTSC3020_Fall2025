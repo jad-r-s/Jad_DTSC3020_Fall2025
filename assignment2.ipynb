{
  "nbformat": 4,
  "nbformat_minor": 0,
  "metadata": {
    "colab": {
      "provenance": [],
      "authorship_tag": "ABX9TyOT/A0XOgJoPrjVjLL/UF6d",
      "include_colab_link": true
    },
    "kernelspec": {
      "name": "python3",
      "display_name": "Python 3"
    },
    "language_info": {
      "name": "python"
    }
  },
  "cells": [
    {
      "cell_type": "markdown",
      "metadata": {
        "id": "view-in-github",
        "colab_type": "text"
      },
      "source": [
        "<a href=\"https://colab.research.google.com/github/jad-r-s/Jad_DTSC3020_Fall2025/blob/main/assignment2.ipynb\" target=\"_parent\"><img src=\"https://colab.research.google.com/assets/colab-badge.svg\" alt=\"Open In Colab\"/></a>"
      ]
    },
    {
      "cell_type": "code",
      "execution_count": 6,
      "metadata": {
        "colab": {
          "base_uri": "https://localhost:8080/"
        },
        "id": "KYkaSEcw28DZ",
        "outputId": "9cc5dba8-cd8c-400b-f7e8-a0800dd83134"
      },
      "outputs": [
        {
          "output_type": "stream",
          "name": "stdout",
          "text": [
            "apple\n",
            "banana\n",
            "orange\n"
          ]
        }
      ],
      "source": [
        "fruits=[\"apple\",\"banana\",\"orange\"]\n",
        "print(fruits[0])\n",
        "print(fruits[1])\n",
        "print(fruits[2])"
      ]
    },
    {
      "cell_type": "code",
      "source": [
        "names = [\"john\",\"jake\",\"gary\",\"ben\"]\n",
        "names[0]=\"will\"\n",
        "print(names)"
      ],
      "metadata": {
        "colab": {
          "base_uri": "https://localhost:8080/"
        },
        "id": "FLsysqCX3yo0",
        "outputId": "07f8b409-94ae-4328-b3e4-76f8014980f8"
      },
      "execution_count": 5,
      "outputs": [
        {
          "output_type": "stream",
          "name": "stdout",
          "text": [
            "['will', 'jake', 'gary', 'ben']\n"
          ]
        }
      ]
    },
    {
      "cell_type": "code",
      "source": [
        "vehicles=[\"car\",\"bus\",\"bike\",\"scooter\",\"plane\"]\n",
        "vehicles.append(\"train\")\n",
        "print(vehicles)"
      ],
      "metadata": {
        "colab": {
          "base_uri": "https://localhost:8080/"
        },
        "id": "bMqaApK748OX",
        "outputId": "09e05821-8ce3-4023-8e9b-6d1fa1e62be1"
      },
      "execution_count": 7,
      "outputs": [
        {
          "output_type": "stream",
          "name": "stdout",
          "text": [
            "['car', 'bus', 'bike', 'scooter', 'plane', 'train']\n"
          ]
        }
      ]
    },
    {
      "cell_type": "code",
      "source": [
        "foods=[\"pizza\",\"pasta\",\"burger\",\"fries\",\"sandwich\",\"salad\"]\n",
        "del foods[5]\n",
        "print(foods)"
      ],
      "metadata": {
        "colab": {
          "base_uri": "https://localhost:8080/"
        },
        "id": "Nsw6f7Be5Upl",
        "outputId": "f360ecbf-a628-465e-8eaf-023cf42a561b"
      },
      "execution_count": 8,
      "outputs": [
        {
          "output_type": "stream",
          "name": "stdout",
          "text": [
            "['pizza', 'pasta', 'burger', 'fries', 'sandwich']\n"
          ]
        }
      ]
    },
    {
      "cell_type": "code",
      "source": [
        "cities=[\"Dallas\",\"Austin\",\"Houston\",\"San Antonio\"]\n",
        "cities.sort()\n",
        "print(cities)"
      ],
      "metadata": {
        "colab": {
          "base_uri": "https://localhost:8080/"
        },
        "id": "gLCS21en57yc",
        "outputId": "0d84124c-28b3-4734-d367-6bb43cf8771d"
      },
      "execution_count": 9,
      "outputs": [
        {
          "output_type": "stream",
          "name": "stdout",
          "text": [
            "['Austin', 'Dallas', 'Houston', 'San Antonio']\n"
          ]
        }
      ]
    },
    {
      "cell_type": "code",
      "source": [
        "animals=[\"dog\",\"cat\",\"mouse\"]\n",
        "for animal in animals:\n",
        "  print(animal)"
      ],
      "metadata": {
        "colab": {
          "base_uri": "https://localhost:8080/"
        },
        "id": "9zJIVZrs6eQY",
        "outputId": "9726d2f3-a1e5-47dc-f196-bc5a10939ae5"
      },
      "execution_count": 10,
      "outputs": [
        {
          "output_type": "stream",
          "name": "stdout",
          "text": [
            "dog\n",
            "cat\n",
            "mouse\n"
          ]
        }
      ]
    },
    {
      "cell_type": "code",
      "source": [
        "numbers=[1,2,3,4,5]\n",
        "for num in numbers:\n",
        "  print(num*2)"
      ],
      "metadata": {
        "colab": {
          "base_uri": "https://localhost:8080/"
        },
        "id": "9VJEkLuY60VF",
        "outputId": "ca544f69-c2e7-4eb0-9513-125906366c20"
      },
      "execution_count": 12,
      "outputs": [
        {
          "output_type": "stream",
          "name": "stdout",
          "text": [
            "2\n",
            "4\n",
            "6\n",
            "8\n",
            "10\n"
          ]
        }
      ]
    },
    {
      "cell_type": "code",
      "source": [
        "friends=[\"aiden\",\"kelvin\",\"will\",\"gary\",\"ben\",\"jacob\"]\n",
        "print(friends[0:3])\n",
        "print(friends[3:6])"
      ],
      "metadata": {
        "colab": {
          "base_uri": "https://localhost:8080/"
        },
        "id": "oVOSJxH47qBK",
        "outputId": "0a9ecf28-7365-4950-f545-af8dfd47a1aa"
      },
      "execution_count": 13,
      "outputs": [
        {
          "output_type": "stream",
          "name": "stdout",
          "text": [
            "['aiden', 'kelvin', 'will']\n",
            "['gary', 'ben', 'jacob']\n"
          ]
        }
      ]
    },
    {
      "cell_type": "code",
      "source": [
        "numbers=list(range(1,11))\n",
        "print(numbers)"
      ],
      "metadata": {
        "colab": {
          "base_uri": "https://localhost:8080/"
        },
        "id": "pf5zXilG8b0U",
        "outputId": "380fff0d-bfda-44b0-af78-49919ea91f63"
      },
      "execution_count": 15,
      "outputs": [
        {
          "output_type": "stream",
          "name": "stdout",
          "text": [
            "[1, 2, 3, 4, 5, 6, 7, 8, 9, 10]\n"
          ]
        }
      ]
    },
    {
      "cell_type": "code",
      "source": [
        "squares=[value**2 for value in range(1,6)]\n",
        "print(squares)"
      ],
      "metadata": {
        "colab": {
          "base_uri": "https://localhost:8080/"
        },
        "id": "FtOSYXi98zUC",
        "outputId": "705d3ab7-f586-4df2-de16-9ef7d68fb50a"
      },
      "execution_count": 16,
      "outputs": [
        {
          "output_type": "stream",
          "name": "stdout",
          "text": [
            "[1, 4, 9, 16, 25]\n"
          ]
        }
      ]
    }
  ]
}