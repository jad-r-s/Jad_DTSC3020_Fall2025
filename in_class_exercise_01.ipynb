{
  "nbformat": 4,
  "nbformat_minor": 0,
  "metadata": {
    "colab": {
      "provenance": [],
      "authorship_tag": "ABX9TyOHuZz8e2Hp+s5pCJaDmRo6",
      "include_colab_link": true
    },
    "kernelspec": {
      "name": "python3",
      "display_name": "Python 3"
    },
    "language_info": {
      "name": "python"
    }
  },
  "cells": [
    {
      "cell_type": "markdown",
      "metadata": {
        "id": "view-in-github",
        "colab_type": "text"
      },
      "source": [
        "<a href=\"https://colab.research.google.com/github/jad-r-s/Jad_DTSC3020_Fall2025/blob/main/in_class_exercise_01.ipynb\" target=\"_parent\"><img src=\"https://colab.research.google.com/assets/colab-badge.svg\" alt=\"Open In Colab\"/></a>"
      ]
    },
    {
      "cell_type": "code",
      "source": [
        "print(\"welcome to python, \", name)"
      ],
      "metadata": {
        "colab": {
          "base_uri": "https://localhost:8080/"
        },
        "id": "urYVsf6-TQ6u",
        "outputId": "ef40417a-d2ed-4282-f812-28198735b0bd"
      },
      "execution_count": 5,
      "outputs": [
        {
          "output_type": "stream",
          "name": "stdout",
          "text": [
            "welcome to python,  Jad\n"
          ]
        }
      ]
    },
    {
      "cell_type": "code",
      "source": [
        "name= \"Jad\"\n",
        "print(name)"
      ],
      "metadata": {
        "colab": {
          "base_uri": "https://localhost:8080/"
        },
        "id": "-e2vk_5RTKdi",
        "outputId": "f2ff6f6f-76bb-4ac0-f40c-5949ef522383"
      },
      "execution_count": 4,
      "outputs": [
        {
          "output_type": "stream",
          "name": "stdout",
          "text": [
            "Jad\n"
          ]
        }
      ]
    },
    {
      "cell_type": "code",
      "source": [
        "print(\"Hello\")\n",
        "print(\"World\")\n",
        "print(\"hi\")"
      ],
      "metadata": {
        "colab": {
          "base_uri": "https://localhost:8080/"
        },
        "id": "50VA1Ee6TA3J",
        "outputId": "4180d8ca-6f10-4f2a-dcff-7a420da3ace7"
      },
      "execution_count": 2,
      "outputs": [
        {
          "output_type": "stream",
          "name": "stdout",
          "text": [
            "Hello\n",
            "World\n",
            "hi\n"
          ]
        }
      ]
    },
    {
      "cell_type": "code",
      "execution_count": 1,
      "metadata": {
        "colab": {
          "base_uri": "https://localhost:8080/"
        },
        "id": "k9YyS9AvP5RS",
        "outputId": "1534a225-b1b8-419a-a86f-1e90f4eacd0b"
      },
      "outputs": [
        {
          "output_type": "stream",
          "name": "stdout",
          "text": [
            "Welcome to python\n"
          ]
        }
      ],
      "source": [
        "print(\"Welcome to python\")"
      ]
    },
    {
      "cell_type": "markdown",
      "source": [
        "This is **bold**.\n",
        "This is *Italic*.\n",
        "This is ~strikethrough~."
      ],
      "metadata": {
        "id": "TMnsmiAEREDS"
      }
    }
  ]
}