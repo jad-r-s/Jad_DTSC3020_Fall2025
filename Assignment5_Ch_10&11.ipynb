{
  "cells": [
    {
      "cell_type": "markdown",
      "metadata": {
        "id": "view-in-github",
        "colab_type": "text"
      },
      "source": [
        "<a href=\"https://colab.research.google.com/github/jad-r-s/Jad_DTSC3020_Fall2025/blob/main/Assignment5_Ch_10%2611.ipynb\" target=\"_parent\"><img src=\"https://colab.research.google.com/assets/colab-badge.svg\" alt=\"Open In Colab\"/></a>"
      ]
    },
    {
      "cell_type": "markdown",
      "id": "9903d230",
      "metadata": {
        "id": "9903d230"
      },
      "source": [
        "# Assignment5: CRM Cleanup @ **DalaShop**\n",
        "*Files (Ch.10), Exceptions (Ch.10), Unit Tests (Ch.11), and Regular Expressions*  \n",
        ".....\n",
        "\n",
        "**Total: 3 points**  (Two questions, 1.5 pts each)  \n",
        "\n",
        "> This assignment is scenario-based and aligned with Python Crash Course Ch.10 (files & exceptions), Ch.11 (unit testing with `unittest`), and Regular Expressions."
      ]
    },
    {
      "cell_type": "markdown",
      "id": "d6487401",
      "metadata": {
        "id": "d6487401"
      },
      "source": [
        "## Scenario\n",
        "You are a data intern at an online retailer called **DalaShop**.  \n",
        "Sales exported a **raw contacts** file from the CRM. It contains customer names, emails, and phone numbers, but the formatting is messy and some emails are invalid.  \n",
        "Your tasks:\n",
        "\n",
        "1. **Clean** the contacts (Files + Exceptions + Regex).  \n",
        "2. **Write unit tests** to make sure your helper functions work correctly and keep working in the future."
      ]
    },
    {
      "cell_type": "markdown",
      "id": "0bd1712f",
      "metadata": {
        "id": "0bd1712f"
      },
      "source": [
        "## Data file (given by the company): `contacts_raw.txt`\n",
        "Use this exact sample data (you may extend it for your own testing, but do **not** change it when submitting).  \n",
        "Run the next cell once to create the file beside your notebook."
      ]
    },
    {
      "cell_type": "code",
      "execution_count": 4,
      "id": "c395a1a8",
      "metadata": {
        "id": "c395a1a8",
        "colab": {
          "base_uri": "https://localhost:8080/"
        },
        "outputId": "4ff6dec1-2745-436a-ed23-7928235e9607"
      },
      "outputs": [
        {
          "output_type": "stream",
          "name": "stdout",
          "text": [
            "Wrote contacts_raw.txt with sample DalaShop data.\n"
          ]
        }
      ],
      "source": [
        "# Create the provided company dataset file\n",
        "with open(\"contacts_raw.txt\", \"w\", encoding=\"utf-8\") as f:\n",
        "    f.write('Alice Johnson <alice@example.com> , +1 (469) 555-1234\\nBob Roberts <bob[at]example.com> , 972-555-777\\nSara M. , sara@mail.co , 214 555 8888\\n\"Mehdi A.\" <mehdi.ay@example.org> , (469)555-9999\\nDelaram <delaram@example.io>, +1-972-777-2121\\nNima <NIMA@example.io> , 972.777.2121\\nduplicate <Alice@Example.com> , 469 555 1234')\n",
        "print(\"Wrote contacts_raw.txt with sample DalaShop data.\")"
      ]
    },
    {
      "cell_type": "markdown",
      "id": "1b535f73",
      "metadata": {
        "id": "1b535f73"
      },
      "source": [
        "## Q1 (1.5 pts) — CRM cleanup with Files, Exceptions, and Regex\n",
        "Implement `q1_crm_cleanup.py` to:\n",
        "\n",
        "1. **Read** `contacts_raw.txt` using `pathlib` and `with`. If the file is missing, **handle** it gracefully with `try/except FileNotFoundError` (print a friendly message; do not crash).\n",
        "2. **Validate emails** with a simple regex (`r\"[A-Za-z0-9._%+-]+@[A-Za-z0-9.-]+\\.[A-Za-z]{2,}\"`).  \n",
        "   - Trim whitespace with `strip()` before checking.  \n",
        "   - Use **full** matching (not partial).\n",
        "3. **Normalize phone numbers:** remove all non-digits (e.g., with `re.sub(r\"\\D\", \"\", raw)`).  \n",
        "   - If the result has **≥ 10 digits**, keep the **last 10 digits**.  \n",
        "   - Otherwise, return an **empty string** (`\"\"`).\n",
        "4. **Filter rows:** keep **only** rows with a valid email.\n",
        "5. **Deduplicate:** remove duplicates by **email** using **case-insensitive** comparison (e.g., `email.casefold()`). **Keep the first occurrence** and drop later duplicates.\n",
        "6. **Output CSV:** write to `contacts_clean.csv` with **columns exactly** `name,email,phone` (UTF-8).  \n",
        "7. **Preserve input order:** the order of rows in `contacts_clean.csv` must match the **first appearance** order from the input file. **Do not sort** the rows.\n",
        "\n",
        "**Grading rubric (1.5 pts):**\n",
        "- (0.4) File read/write via `pathlib` + graceful `FileNotFoundError` handling  \n",
        "- (0.5) Correct email regex validation + filtering  \n",
        "- (0.4) Phone normalization + case-insensitive de-dup (keep first)  \n",
        "- (0.2) Clean code, clear names, minimal docstrings/comments"
      ]
    },
    {
      "cell_type": "code",
      "source": [
        "# Write your answer here\n",
        "\"\"\"\n",
        "q1_crm_cleanup.py\n",
        "Cleans raw CRM contact data for DalaShop\n",
        "\"\"\"\n",
        "\n",
        "from pathlib import Path\n",
        "import re\n",
        "import csv\n",
        "\n",
        "# regex for valid email addresses\n",
        "EMAIL_REGEX = re.compile(r\"^[A-Za-z0-9._%+-]+@[A-Za-z0-9.-]+\\.[A-Za-z]{2,}$\")\n",
        "\n",
        "def is_valid_email(email: str) -> bool:\n",
        "    \"\"\"Return true if email is valid using full regex match\"\"\"\n",
        "    return bool(EMAIL_REGEX.fullmatch(email.strip()))\n",
        "\n",
        "def normalize_phone(raw_phone: str) -> str:\n",
        "    \"\"\"Remove non-digits and keep the last 10 digits if available\"\"\"\n",
        "    digits = re.sub(r\"\\D\", \"\", raw_phone)\n",
        "    return digits[-10:] if len(digits) >= 10 else \"\"\n",
        "\n",
        "def main():\n",
        "    input_path = Path(\"contacts_raw.txt\")\n",
        "    output_path = Path(\"contacts_clean.csv\")\n",
        "\n",
        "    try:\n",
        "        raw_text = input_path.read_text(encoding=\"utf-8\")\n",
        "    except FileNotFoundError:\n",
        "        print(\"Error: contacts_raw.txt not found. Please make sure the file exists.\")\n",
        "        return\n",
        "\n",
        "    seen_emails = set()\n",
        "    cleaned_rows = []\n",
        "\n",
        "    for line in raw_text.strip().splitlines():\n",
        "        parts = [p.strip() for p in re.split(r\"[<>,]\", line) if p.strip()]\n",
        "        # attempt to extract name, email, and phone\n",
        "        if len(parts) >= 3:\n",
        "            name, email, phone = parts[0], parts[1], parts[2]\n",
        "        elif len(parts) == 2:\n",
        "            # handle missing name or phone\n",
        "            if \"@\" in parts[0]:\n",
        "                email, phone = parts[0], parts[1]\n",
        "                name = \"\"\n",
        "            else:\n",
        "                name, email = parts[0], parts[1]\n",
        "                phone = \"\"\n",
        "        else:\n",
        "            continue  # skip unrecognized rows\n",
        "\n",
        "        if not is_valid_email(email):\n",
        "            continue\n",
        "\n",
        "        normalized_phone = normalize_phone(phone)\n",
        "        email_key = email.casefold()\n",
        "\n",
        "        if email_key not in seen_emails:\n",
        "            seen_emails.add(email_key)\n",
        "            cleaned_rows.append({\n",
        "                \"name\": name.strip('\"').strip(),\n",
        "                \"email\": email.strip(),\n",
        "                \"phone\": normalized_phone\n",
        "            })\n",
        "\n",
        "    # write to contacts_clean.csv\n",
        "    with output_path.open(\"w\", encoding=\"utf-8\", newline=\"\") as f:\n",
        "        writer = csv.DictWriter(f, fieldnames=[\"name\", \"email\", \"phone\"])\n",
        "        writer.writeheader()\n",
        "        writer.writerows(cleaned_rows)\n",
        "\n",
        "    print(f\"Cleaned contacts written to {output_path.name}\")\n",
        "\n",
        "if __name__ == \"__main__\":\n",
        "    main()"
      ],
      "metadata": {
        "id": "gO9xaHmKNlax",
        "colab": {
          "base_uri": "https://localhost:8080/"
        },
        "outputId": "3b8f2c54-7a8e-4826-f25d-4f03c4bbfd31"
      },
      "id": "gO9xaHmKNlax",
      "execution_count": 7,
      "outputs": [
        {
          "output_type": "stream",
          "name": "stdout",
          "text": [
            "Cleaned contacts written to contacts_clean.csv\n"
          ]
        }
      ]
    },
    {
      "cell_type": "markdown",
      "id": "258c5b04",
      "metadata": {
        "id": "258c5b04"
      },
      "source": [
        "## Q2 (1.5 pts) — Unit testing with `unittest`\n",
        "Create tests in `test_crm_cleanup.py` that cover at least:\n",
        "\n",
        "1. **Email validation**: valid/invalid variations.  \n",
        "2. **Phone normalization**: parentheses, dashes, spaces, country code; too-short cases.  \n",
        "3. **Parsing**: from a small multi-line string (not from a file), assert the exact structured rows (name/email/phone).  \n",
        "4. **De-duplication**: demonstrate that a case-variant duplicate email is dropped (first occurrence kept).\n",
        "\n",
        "\n"
      ]
    },
    {
      "cell_type": "code",
      "source": [
        "# Write your answer here\n",
        "\"\"\"\n",
        "Unit tests for q1_crm_cleanup.py.\n",
        "Covers email validation, phone normalization, parsing, and deduplication.\n",
        "\"\"\"\n",
        "\n",
        "import unittest\n",
        "from q1_crm_cleanup import is_valid_email, normalize_phone\n",
        "import re\n",
        "from q1_crm_cleanup import EMAIL_REGEX\n",
        "\n",
        "\n",
        "class TestCRMHelpers(unittest.TestCase):\n",
        "    def test_valid_emails(self):\n",
        "        valid = [\n",
        "            \"alice@example.com\",\n",
        "            \"bob.smith123@domain.co.uk\",\n",
        "            \"MEHDI-AY@EXAMPLE.ORG\",\n",
        "            \"x_y.z+test@mail.io\",\n",
        "        ]\n",
        "        for email in valid:\n",
        "            self.assertTrue(is_valid_email(email))\n",
        "\n",
        "    def test_invalid_emails(self):\n",
        "        invalid = [\n",
        "            \"bob[at]example.com\",\n",
        "            \"sara@mail\",\n",
        "            \"noatsymbol.com\",\n",
        "            \"@missingname.com\",\n",
        "            \"john@.com\",\n",
        "        ]\n",
        "        for email in invalid:\n",
        "            self.assertFalse(is_valid_email(email))\n",
        "\n",
        "    def test_phone_normalization(self):\n",
        "        cases = {\n",
        "            \"+1 (469) 555-1234\": \"4695551234\",\n",
        "            \"972-555-777\": \"\",\n",
        "            \"(214) 555 8888\": \"2145558888\",\n",
        "            \"+1-972-777-2121\": \"9727772121\",\n",
        "            \"972.777.2121\": \"9727772121\",\n",
        "            \"1234567890123\": \"2345678901\",\n",
        "        }\n",
        "        for raw, expected in cases.items():\n",
        "            self.assertEqual(normalize_phone(raw), expected)\n",
        "\n",
        "\n",
        "class TestParsingAndDedup(unittest.TestCase):\n",
        "    def parse_lines(self, text):\n",
        "        seen = set()\n",
        "        rows = []\n",
        "        for line in text.strip().splitlines():\n",
        "            parts = [p.strip() for p in re.split(r\"[<>,]\", line) if p.strip()]\n",
        "            if len(parts) >= 3:\n",
        "                name, email, phone = parts[0], parts[1], parts[2]\n",
        "            elif len(parts) == 2:\n",
        "                if \"@\" in parts[0]:\n",
        "                    email, phone = parts[0], parts[1]\n",
        "                    name = \"\"\n",
        "                else:\n",
        "                    name, email = parts[0], parts[1]\n",
        "                    phone = \"\"\n",
        "            else:\n",
        "                continue\n",
        "\n",
        "            if not EMAIL_REGEX.fullmatch(email.strip()):\n",
        "                continue\n",
        "\n",
        "            digits = re.sub(r\"\\D\", \"\", phone)\n",
        "            normalized_phone = digits[-10:] if len(digits) >= 10 else \"\"\n",
        "            email_key = email.casefold()\n",
        "\n",
        "            if email_key not in seen:\n",
        "                seen.add(email_key)\n",
        "                rows.append((name.strip('\"').strip(), email.strip(), normalized_phone))\n",
        "        return rows\n",
        "\n",
        "    def test_parsing_and_deduplication(self):\n",
        "        raw = \"\"\"Alice Johnson <alice@example.com> , +1 (469) 555-1234\n",
        "        duplicate <Alice@Example.com> , 469 555 1234\n",
        "        Mehdi <mehdi@example.org> , 972.888.9999\n",
        "        invalid <bob[at]example.com> , 9725550000\n",
        "        \"\"\"\n",
        "\n",
        "        rows = self.parse_lines(raw)\n",
        "        expected = [\n",
        "            (\"Alice Johnson\", \"alice@example.com\", \"4695551234\"),\n",
        "            (\"Mehdi\", \"mehdi@example.org\", \"9728889999\")\n",
        "        ]\n",
        "        self.assertEqual(rows, expected)\n",
        "\n",
        "\n",
        "if __name__ == \"__main__\":\n",
        "    unittest.main()"
      ],
      "metadata": {
        "id": "_M18cJw2NqZm",
        "colab": {
          "base_uri": "https://localhost:8080/",
          "height": 384
        },
        "outputId": "1916e9b3-2dbd-4d87-a965-7f1f6fab6583"
      },
      "id": "_M18cJw2NqZm",
      "execution_count": 6,
      "outputs": [
        {
          "output_type": "error",
          "ename": "ModuleNotFoundError",
          "evalue": "No module named 'q1_crm_cleanup'",
          "traceback": [
            "\u001b[0;31m---------------------------------------------------------------------------\u001b[0m",
            "\u001b[0;31mModuleNotFoundError\u001b[0m                       Traceback (most recent call last)",
            "\u001b[0;32m/tmp/ipython-input-3963704070.py\u001b[0m in \u001b[0;36m<cell line: 0>\u001b[0;34m()\u001b[0m\n\u001b[1;32m      6\u001b[0m \u001b[0;34m\u001b[0m\u001b[0m\n\u001b[1;32m      7\u001b[0m \u001b[0;32mimport\u001b[0m \u001b[0munittest\u001b[0m\u001b[0;34m\u001b[0m\u001b[0;34m\u001b[0m\u001b[0m\n\u001b[0;32m----> 8\u001b[0;31m \u001b[0;32mfrom\u001b[0m \u001b[0mq1_crm_cleanup\u001b[0m \u001b[0;32mimport\u001b[0m \u001b[0mis_valid_email\u001b[0m\u001b[0;34m,\u001b[0m \u001b[0mnormalize_phone\u001b[0m\u001b[0;34m\u001b[0m\u001b[0;34m\u001b[0m\u001b[0m\n\u001b[0m\u001b[1;32m      9\u001b[0m \u001b[0;32mimport\u001b[0m \u001b[0mre\u001b[0m\u001b[0;34m\u001b[0m\u001b[0;34m\u001b[0m\u001b[0m\n\u001b[1;32m     10\u001b[0m \u001b[0;32mfrom\u001b[0m \u001b[0mq1_crm_cleanup\u001b[0m \u001b[0;32mimport\u001b[0m \u001b[0mEMAIL_REGEX\u001b[0m\u001b[0;34m\u001b[0m\u001b[0;34m\u001b[0m\u001b[0m\n",
            "\u001b[0;31mModuleNotFoundError\u001b[0m: No module named 'q1_crm_cleanup'",
            "",
            "\u001b[0;31m---------------------------------------------------------------------------\u001b[0;32m\nNOTE: If your import is failing due to a missing package, you can\nmanually install dependencies using either !pip or !apt.\n\nTo view examples of installing some common dependencies, click the\n\"Open Examples\" button below.\n\u001b[0;31m---------------------------------------------------------------------------\u001b[0m\n"
          ],
          "errorDetails": {
            "actions": [
              {
                "action": "open_url",
                "actionText": "Open Examples",
                "url": "/notebooks/snippets/importing_libraries.ipynb"
              }
            ]
          }
        }
      ]
    },
    {
      "cell_type": "markdown",
      "id": "f38af38b",
      "metadata": {
        "id": "f38af38b"
      },
      "source": [
        "## Grading rubric (total 3 pts)\n",
        "- **Q1 (1.5 pts)**  \n",
        "  - (0.4) File I/O with `pathlib` + graceful `FileNotFoundError` handling  \n",
        "  - (0.5) Email validation (regex + strip + full match) and filtering  \n",
        "  - (0.4) Phone normalization and **case-insensitive** de-duplication (keep first)  \n",
        "  - (0.2) Code clarity (names, minimal docstrings/comments)\n",
        "- **Q2 (1.5 pts)**  \n",
        "  - (0.6) Meaningful coverage for email/phone functions (valid & invalid)  \n",
        "  - (0.6) Parsing & de-dup tests that assert exact expected rows  \n",
        "  - (0.3) Standard `unittest` structure and readable test names\n"
      ]
    }
  ],
  "metadata": {
    "colab": {
      "provenance": [],
      "include_colab_link": true
    },
    "language_info": {
      "name": "python"
    },
    "kernelspec": {
      "name": "python3",
      "display_name": "Python 3"
    }
  },
  "nbformat": 4,
  "nbformat_minor": 5
}